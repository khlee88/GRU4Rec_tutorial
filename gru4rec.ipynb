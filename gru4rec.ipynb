{
 "cells": [
  {
   "cell_type": "code",
   "execution_count": 1,
   "metadata": {
    "collapsed": true
   },
   "outputs": [],
   "source": [
    "import tensorflow as tf\n",
    "import pandas as pd\n",
    "import numpy as np\n",
    "import time\n",
    "import os"
   ]
  },
  {
   "cell_type": "markdown",
   "metadata": {},
   "source": [
    "## Preprocessing"
   ]
  },
  {
   "cell_type": "code",
   "execution_count": 2,
   "metadata": {
    "collapsed": true
   },
   "outputs": [],
   "source": [
    "## set parameters\n",
    "#ROOT = 'PATH/TO/data/processed/'\n",
    "ROOT = '/home/khlee/git/recommendation/GRU4Rec_TensorFlow/data/processed/'\n",
    "DATA_TYPE = 'sample'\n",
    "PATH_TO_TRAIN = ROOT + 'rsc15_train_{}.txt'.format(DATA_TYPE)\n",
    "PATH_TO_TEST = ROOT + 'rsc15_test_{}.txt'.format(DATA_TYPE)\n",
    "checkpoint_dir = './checkpoint'\n",
    "if not os.path.exists(checkpoint_dir): os.mkdir(checkpoint_dir)\n",
    "        \n",
    "layers = 1\n",
    "rnn_size = 100\n",
    "batch_size = 50\n",
    "drop_keep_prob = 0.7\n",
    "\n",
    "n_epochs = 3\n",
    "learning_rate = 0.001\n",
    "decay = 0.96\n",
    "decay_steps = 1e4\n",
    "grad_cap = 0\n",
    "print_step = 1e3"
   ]
  },
  {
   "cell_type": "code",
   "execution_count": 3,
   "metadata": {
    "collapsed": true
   },
   "outputs": [],
   "source": [
    "## load data\n",
    "data = pd.read_csv(PATH_TO_TRAIN, sep='\\t', dtype={'ItemId': np.int64})\n",
    "valid = pd.read_csv(PATH_TO_TEST, sep='\\t', dtype={'ItemId': np.int64})"
   ]
  },
  {
   "cell_type": "code",
   "execution_count": 4,
   "metadata": {},
   "outputs": [
    {
     "name": "stdout",
     "output_type": "stream",
     "text": [
      "True\n",
      "True\n"
     ]
    }
   ],
   "source": [
    "## check sort data\n",
    "### preprocessing에서 session, timestamp로 sorting을 하였는데,\n",
    "### sorting이 중요하기 때문에 한번더 확인해본다.\n",
    "### data가 클경우 sort에서 시간이 오래 걸리기 때문에 sample check을 수행한다.\n",
    "def check_data_sort(dt, sample_check=False, sample_size=10000):\n",
    "    if sample_check:\n",
    "        sess_ids = dt['SessionId'].unique()\n",
    "        sample_sess_ids = np.random.choice(sess_ids, sample_size, replace=False)\n",
    "        dt = dt[np.in1d(dt.SessionId, sample_sess_ids)]\n",
    "    ordered_dt = dt.sort_values(['SessionId', 'timestamp'])\n",
    "    return dt.equals(ordered_dt)\n",
    "\n",
    "print(check_data_sort(data, sample_check=True))\n",
    "print(check_data_sort(valid))"
   ]
  },
  {
   "cell_type": "code",
   "execution_count": 5,
   "metadata": {},
   "outputs": [
    {
     "name": "stdout",
     "output_type": "stream",
     "text": [
      "CPU times: user 1.52 s, sys: 88 ms, total: 1.61 s\n",
      "Wall time: 1.61 s\n"
     ]
    },
    {
     "data": {
      "text/html": [
       "<div>\n",
       "<style scoped>\n",
       "    .dataframe tbody tr th:only-of-type {\n",
       "        vertical-align: middle;\n",
       "    }\n",
       "\n",
       "    .dataframe tbody tr th {\n",
       "        vertical-align: top;\n",
       "    }\n",
       "\n",
       "    .dataframe thead th {\n",
       "        text-align: right;\n",
       "    }\n",
       "</style>\n",
       "<table border=\"1\" class=\"dataframe\">\n",
       "  <thead>\n",
       "    <tr style=\"text-align: right;\">\n",
       "      <th></th>\n",
       "      <th>SessionId</th>\n",
       "      <th>ItemId</th>\n",
       "      <th>timestamp</th>\n",
       "      <th>ItemIdx</th>\n",
       "    </tr>\n",
       "  </thead>\n",
       "  <tbody>\n",
       "    <tr>\n",
       "      <th>0</th>\n",
       "      <td>6</td>\n",
       "      <td>214701242</td>\n",
       "      <td>1.396804e+09</td>\n",
       "      <td>0</td>\n",
       "    </tr>\n",
       "    <tr>\n",
       "      <th>1</th>\n",
       "      <td>6</td>\n",
       "      <td>214826623</td>\n",
       "      <td>1.396804e+09</td>\n",
       "      <td>1</td>\n",
       "    </tr>\n",
       "    <tr>\n",
       "      <th>2</th>\n",
       "      <td>21</td>\n",
       "      <td>214838503</td>\n",
       "      <td>1.396861e+09</td>\n",
       "      <td>2</td>\n",
       "    </tr>\n",
       "    <tr>\n",
       "      <th>3</th>\n",
       "      <td>21</td>\n",
       "      <td>214838503</td>\n",
       "      <td>1.396861e+09</td>\n",
       "      <td>2</td>\n",
       "    </tr>\n",
       "    <tr>\n",
       "      <th>4</th>\n",
       "      <td>21</td>\n",
       "      <td>214838503</td>\n",
       "      <td>1.396861e+09</td>\n",
       "      <td>2</td>\n",
       "    </tr>\n",
       "  </tbody>\n",
       "</table>\n",
       "</div>"
      ],
      "text/plain": [
       "   SessionId     ItemId     timestamp  ItemIdx\n",
       "0          6  214701242  1.396804e+09        0\n",
       "1          6  214826623  1.396804e+09        1\n",
       "2         21  214838503  1.396861e+09        2\n",
       "3         21  214838503  1.396861e+09        2\n",
       "4         21  214838503  1.396861e+09        2"
      ]
     },
     "execution_count": 5,
     "metadata": {},
     "output_type": "execute_result"
    }
   ],
   "source": [
    "## add item index \n",
    "### item id를 0번부터 index를 추가합니다.\n",
    "itemids = data['ItemId'].unique()\n",
    "n_items = len(itemids)\n",
    "itemidmap = pd.Series(data=np.arange(n_items), index=itemids).to_dict()\n",
    "%time data['ItemIdx'] = data['ItemId'].map(lambda x: itemidmap[x])\n",
    "data[:5]"
   ]
  },
  {
   "cell_type": "code",
   "execution_count": 6,
   "metadata": {},
   "outputs": [
    {
     "data": {
      "text/plain": [
       "array([ 0,  2,  8, 10, 15], dtype=int32)"
      ]
     },
     "execution_count": 6,
     "metadata": {},
     "output_type": "execute_result"
    }
   ],
   "source": [
    "## offset sessions\n",
    "### 각 세션의 시작점의 index list를 만든다.\n",
    "### 즉, 첫번째 sessionid 6의 시작점은 0이고 21의 시작점은 2 이다.\n",
    "offset_sessions = np.zeros(data['SessionId'].nunique()+1, dtype=np.int32)\n",
    "offset_sessions[1:] = data.groupby('SessionId').size().cumsum()\n",
    "offset_sessions[:5]"
   ]
  },
  {
   "cell_type": "markdown",
   "metadata": {},
   "source": [
    "## Prepare Model"
   ]
  },
  {
   "cell_type": "code",
   "execution_count": 7,
   "metadata": {
    "collapsed": true
   },
   "outputs": [],
   "source": [
    "## placeholder & learning rate\n",
    "X = tf.placeholder(tf.int32, [batch_size], name='input')\n",
    "Y = tf.placeholder(tf.int32, [batch_size], name='output')\n",
    "States = [tf.placeholder(tf.float32, [batch_size, rnn_size], name='rnn_state') for _ in range(layers)]\n",
    "global_step = tf.Variable(0, name='global_step', trainable=False)\n",
    "lr = tf.maximum(1e-5,tf.train.exponential_decay(\n",
    "    learning_rate, global_step, decay_steps, decay, staircase=True\n",
    ")) "
   ]
  },
  {
   "cell_type": "code",
   "execution_count": 8,
   "metadata": {
    "collapsed": true
   },
   "outputs": [],
   "source": [
    "## gru weigths\n",
    "### input item에 대한 embedding matrix 와\n",
    "### next item 즉 output을 위한 softmax W, b matrix를 구성한다.\n",
    "with tf.variable_scope('gru_layer', reuse=tf.AUTO_REUSE):\n",
    "    #sigma = sigma if sigma != 0 else np.sqrt(6.0 / (n_items + rnn_size))\n",
    "    #initializer = tf.random_uniform_initializer(minval=-sigma, maxval=sigma)\n",
    "    initializer = tf.glorot_uniform_initializer()\n",
    "    embedding = tf.get_variable('embedding', [n_items, rnn_size], initializer=initializer)\n",
    "    softmax_W = tf.get_variable('softmax_w', [n_items, rnn_size], initializer=initializer)\n",
    "    softmax_b = tf.get_variable('softmax_b', [n_items], initializer=tf.zeros_initializer())"
   ]
  },
  {
   "cell_type": "code",
   "execution_count": 9,
   "metadata": {
    "collapsed": true
   },
   "outputs": [],
   "source": [
    "## gru_cell\n",
    "### ㅁt => ㅁt+1 => ㅁt+2 => ... \n",
    "### 위와 같은 recurrent network에서 ㅁ. 즉, 단일 gru cell을 말한다.\n",
    "with tf.variable_scope('gru_cell', reuse=tf.AUTO_REUSE):\n",
    "    cell = tf.nn.rnn_cell.GRUCell(rnn_size, activation=tf.nn.tanh)\n",
    "    drop_cell = tf.nn.rnn_cell.DropoutWrapper(cell, output_keep_prob=drop_keep_prob)\n",
    "    stacked_cell = tf.nn.rnn_cell.MultiRNNCell([drop_cell] * layers)"
   ]
  },
  {
   "cell_type": "code",
   "execution_count": 10,
   "metadata": {
    "collapsed": true
   },
   "outputs": [],
   "source": [
    "## feedforward gur_cell\n",
    "### 예를들어 seesion 1의 item sequence가 5, 7, 9 라면,\n",
    "### 첫번째 배치에서 아이템 5에 대하여 embedding 하여 inputs를 추출하고,\n",
    "### session 1의 초기 states로 부터 output과 final_state를 계산한다.\n",
    "### 두번째 배치에서는 아이템 7에 대한 inputs이 들어가고 아이템 5로 부터 계산된\n",
    "### final state로 아이템 7에 대한 output과 final_state가 다시 계산된다.\n",
    "### 즉, 배치 순서로 각 seesion의 item sequence가 recurrent하게 학습되는 것이다.\n",
    "inputs = tf.nn.embedding_lookup(embedding, X)\n",
    "output, state_ = stacked_cell(inputs, tuple(States))\n",
    "final_state = state_"
   ]
  },
  {
   "cell_type": "code",
   "execution_count": 11,
   "metadata": {
    "collapsed": true
   },
   "outputs": [],
   "source": [
    "## calculate cost(loss)\n",
    "### is_training(학습)일 경우 negative sampling을 통해 \n",
    "### cross-entropy loss로 계산하였다. bpt, top1 loss는 주석처리 하였다. \n",
    "### ---- negative loss에 대한 추가 설명이 필요함 \n",
    "### 학습이 아닐 경우 전체 아이템에 대하여 output을 계산한다. \n",
    "### --- 예측시 어떻게 사용되는지 추가 설명이 필요함\n",
    "### for training\n",
    "sampled_W = tf.nn.embedding_lookup(softmax_W, Y)\n",
    "sampled_b = tf.nn.embedding_lookup(softmax_b, Y)\n",
    "logits = tf.matmul(output, sampled_W, transpose_b=True) + sampled_b\n",
    "yhat = tf.nn.softmax(logits)\n",
    "### cross-entropy loss\n",
    "cost = tf.reduce_mean(-tf.log(tf.diag_part(yhat)+1e-24))\n",
    "### bpr loss\n",
    "# yhatT = tf.transpose(yhat)\n",
    "# cost = tf.reduce_mean(-tf.log(tf.nn.sigmoid(tf.diag_part(yhat)-yhatT)))\n",
    "### top1 loss\n",
    "# yhatT = tf.transpose(yhat)\n",
    "# term1 = tf.reduce_mean(tf.nn.sigmoid(-tf.diag_part(yhat)+yhatT)+tf.nn.sigmoid(yhatT**2), axis=0)\n",
    "# term2 = tf.nn.sigmoid(tf.diag_part(yhat)**2) / batch_size\n",
    "# cost = tf.reduce_mean(term1 - term2)\n",
    "### for prediction\n",
    "logits_all = tf.matmul(output, softmax_W, transpose_b=True) + softmax_b\n",
    "yhat_all = tf.nn.softmax(logits_all)"
   ]
  },
  {
   "cell_type": "code",
   "execution_count": 12,
   "metadata": {
    "collapsed": true
   },
   "outputs": [],
   "source": [
    "## optimize\n",
    "### Adam optimizer를 사용한다.\n",
    "optimizer = tf.train.AdamOptimizer(lr)\n",
    "### grad_cap>0 다면, minimize시 gradient cliping을 수행한다.\n",
    "### gradient cliping을 수행하는 이유는 다음 블로그 참조 (https://dhhwang89.tistory.com/90)\n",
    "### 간략하게 학습 중에 gradient가 급격하게 변하는 지점이 발생할 수 있는데, 이는 기존 minima를 찾아가는 방향이 \n",
    "### 급변할 수 있기 때문에, 이를 방지하기 위해 수행한다.\n",
    "### 본 학습에서는 cliping을 하지 않는데, 유사하게 learning rate decay을 사용하기 때문인 것으로 생각됨.\n",
    "tvars = tf.trainable_variables()\n",
    "gvs = optimizer.compute_gradients(cost, tvars)\n",
    "if grad_cap > 0:\n",
    "    capped_gvs = [(tf.clip_by_norm(grad, grad_cap), var) for grad, var in gvs]\n",
    "else:\n",
    "    capped_gvs = gvs \n",
    "train_op = optimizer.apply_gradients(capped_gvs, global_step=global_step)"
   ]
  },
  {
   "cell_type": "markdown",
   "metadata": {},
   "source": [
    "## Training"
   ]
  },
  {
   "cell_type": "code",
   "execution_count": 12,
   "metadata": {
    "collapsed": true
   },
   "outputs": [],
   "source": [
    "## session start\n",
    "sess = tf.Session()\n",
    "sess.run(tf.global_variables_initializer())\n",
    "saver = tf.train.Saver(tf.global_variables())"
   ]
  },
  {
   "cell_type": "markdown",
   "metadata": {},
   "source": [
    "#### understanding data feed"
   ]
  },
  {
   "cell_type": "code",
   "execution_count": 59,
   "metadata": {},
   "outputs": [
    {
     "name": "stdout",
     "output_type": "stream",
     "text": [
      "[0 1 2 3 4] ... [45 46 47 48 49]\n",
      "49\n",
      "[ 0  2  8 10 15]\n",
      "[ 2  8 10 15 19]\n"
     ]
    }
   ],
   "source": [
    "### 1. 초기 세팅으로 batch_size 만큼 index array를 만들고 maxiter값을 저장한다.\n",
    "### 2. start는 offset_session(sessionid의 시작 index) 에서 iters를 추출한다.\n",
    "###    즉, 첫 50개 sessionid의 시작 index를 추출다.\n",
    "### 3. end는 각 세션에서 다음 세션의 시작되는 index를 추출한다.\n",
    "iters = np.arange(batch_size)\n",
    "maxiter = iters.max()\n",
    "print(iters[:5], \"...\", iters[-5:])\n",
    "print(maxiter)\n",
    "start = offset_sessions[iters]\n",
    "end = offset_sessions[iters+1]\n",
    "print(start[:5])\n",
    "print(end[:5])"
   ]
  },
  {
   "cell_type": "code",
   "execution_count": 60,
   "metadata": {},
   "outputs": [
    {
     "name": "stdout",
     "output_type": "stream",
     "text": [
      "2\n",
      "[0 2 4 6 7]\n"
     ]
    }
   ],
   "source": [
    "### 1. end - start의 최소 값을 추출한다.\n",
    "### 만약 최소값이 3라면 즉, 하나의 세션의 item이 두개라면,\n",
    "### 첫번째 item은 input으로 사용되고 두번째 item은 output으로 사용된다.\n",
    "### 그리고 다음 배체에서 두번째 item은 input으로 사용되고 세번째 item이 output으로 사용된다.\n",
    "### 해당 세션은 배치가 두번 돈 후 더이상 학습 할 수 없으므로 다음 세션으로 교체되어야 한다.\n",
    "### 만약 최소값으 2라면, 해당 세션은 1번 배치 후 다음 세션으로 교체되어야 한다.\n",
    "### 즉, end - start - 1의 최소 값은 현재 배치된 session의 반복 수를 의미한다.\n",
    "### 2. out_idx는 각 session의 첫 itemidx를 나타낸다.\n",
    "minlen = (end-start).min()\n",
    "out_idx = data.ItemIdx.values[start]\n",
    "print(minlen)\n",
    "print(out_idx[:5])"
   ]
  },
  {
   "cell_type": "code",
   "execution_count": 61,
   "metadata": {},
   "outputs": [
    {
     "name": "stdout",
     "output_type": "stream",
     "text": [
      "[0 2 4 6 7]\n",
      "[1 2 5 6 8]\n"
     ]
    }
   ],
   "source": [
    "### 위에서 설명한 것과 같이, 각 세션의 첫번째 아이템이 in, 두번째 아이템이 out이 된 후 학습에 사용된다.\n",
    "### minlen - 1 의 수만큼 반복(i)되어 학습한다.\n",
    "i = 0\n",
    "in_idx = out_idx\n",
    "out_idx = data.ItemIdx.values[start+i+1]\n",
    "print(in_idx[:5])\n",
    "print(out_idx[:5])"
   ]
  },
  {
   "cell_type": "code",
   "execution_count": 62,
   "metadata": {},
   "outputs": [
    {
     "name": "stdout",
     "output_type": "stream",
     "text": [
      "[ 2  8 10 15 19]\n",
      "[ 1  3  9 11 16]\n",
      "[ 0  2  8  9 10]\n"
     ]
    }
   ],
   "source": [
    "### 1. 위에서 minlen - 1만큼 반복이 완료 되었다는 것은, 교체되어야 할 sessionid가 있다는 말이다.\n",
    "### start 즉, 세션의 시작 index에서 minlen-1 만큼 증가(반복) 후에 end-start가 1보다 작다는 것은\n",
    "### 해당 세션의 item이 모두 사용되었다는 것이다. \n",
    "### 2. 해당 index를 mask에 저장한다.\n",
    "### 즉, 배치 index 0(2-1), 2(10-9),... 에 위치한 session의 item은 모두 사용된 것이다.\n",
    "start = start+minlen-1\n",
    "mask = np.arange(len(iters))[(end-start)<=1]\n",
    "print(end[:5])\n",
    "print(start[:5])\n",
    "print(mask[:5])"
   ]
  },
  {
   "cell_type": "code",
   "execution_count": 63,
   "metadata": {},
   "outputs": [
    {
     "name": "stdout",
     "output_type": "stream",
     "text": [
      "[50  1 51  3  4  5  6  7  8  9]\n",
      "[186   3 188  11  16  20  25  28  33  35]\n",
      "[188   8 191  15  19  24  27  32  34  36]\n"
     ]
    }
   ],
   "source": [
    "### 1. iters 즉, 배치 index의 0번에 maxiter(49) + 1인 다음 session index로 교체한다.\n",
    "### 마찬가지고 배치 index 2번에는 그다음 session index 51로 교체한다.\n",
    "iters[0] = 50\n",
    "iters[2] = 51\n",
    "print(iters[:10])\n",
    "### 2. start와 end는 각 데이터에서 각 세션id의 시작 index와 다음 세션의 시작 index 의미하였다.\n",
    "### 교체된 session 지점에 새로운 세션id에 대한 시작 index와 다음 세션의 시작 index로 교체한다.\n",
    "start[0] = offset_sessions[50]\n",
    "end[0] = offset_sessions[50+1]\n",
    "start[2] = offset_sessions[51]\n",
    "end[2] = offset_sessions[51+1]\n",
    "print(start[:10])\n",
    "print(end[:10])"
   ]
  },
  {
   "cell_type": "code",
   "execution_count": 64,
   "metadata": {},
   "outputs": [
    {
     "name": "stdout",
     "output_type": "stream",
     "text": [
      "[186   3 188  11  16  20  25  28 191 195]\n",
      "[188   8 191  15  19  24  27  32 195 198]\n"
     ]
    }
   ],
   "source": [
    "### 위 두 단락에서 session item이 다 사용된 iter 0, 2번 index에 대해서만 교체하였는데,\n",
    "### 모든 교체되어야할 index 즉, 모든 mask에 대하여 session 교체를 수행한다.\n",
    "for idx in mask:\n",
    "    maxiter += 1\n",
    "    if maxiter >= len(offset_sessions)-1:\n",
    "        finished = True\n",
    "        break\n",
    "    iters[idx] = maxiter\n",
    "    start[idx] = offset_sessions[maxiter]\n",
    "    end[idx] = offset_sessions[maxiter+1]\n",
    "print(start[:10])\n",
    "print(end[:10])"
   ]
  },
  {
   "cell_type": "code",
   "execution_count": 65,
   "metadata": {},
   "outputs": [],
   "source": [
    "### 새로운 session으로 교체되었기 때문에, rnn 학습의 해당 위치의 초기값 state 값도 0으로 초기화해준다.\n",
    "#if len(mask):\n",
    "#    for i in range(layers):\n",
    "#        state[i][mask] = 0"
   ]
  },
  {
   "cell_type": "code",
   "execution_count": 66,
   "metadata": {},
   "outputs": [
    {
     "name": "stdout",
     "output_type": "stream",
     "text": [
      "3140308\n"
     ]
    },
    {
     "data": {
      "text/html": [
       "<div>\n",
       "<style scoped>\n",
       "    .dataframe tbody tr th:only-of-type {\n",
       "        vertical-align: middle;\n",
       "    }\n",
       "\n",
       "    .dataframe tbody tr th {\n",
       "        vertical-align: top;\n",
       "    }\n",
       "\n",
       "    .dataframe thead th {\n",
       "        text-align: right;\n",
       "    }\n",
       "</style>\n",
       "<table border=\"1\" class=\"dataframe\">\n",
       "  <thead>\n",
       "    <tr style=\"text-align: right;\">\n",
       "      <th></th>\n",
       "      <th>SessionId</th>\n",
       "      <th>ItemId</th>\n",
       "      <th>timestamp</th>\n",
       "      <th>ItemIdx</th>\n",
       "    </tr>\n",
       "  </thead>\n",
       "  <tbody>\n",
       "    <tr>\n",
       "      <th>3140305</th>\n",
       "      <td>11562131</td>\n",
       "      <td>214854542</td>\n",
       "      <td>1.411823e+09</td>\n",
       "      <td>21584</td>\n",
       "    </tr>\n",
       "    <tr>\n",
       "      <th>3140306</th>\n",
       "      <td>11562151</td>\n",
       "      <td>214536296</td>\n",
       "      <td>1.411769e+09</td>\n",
       "      <td>3483</td>\n",
       "    </tr>\n",
       "    <tr>\n",
       "      <th>3140307</th>\n",
       "      <td>11562151</td>\n",
       "      <td>214536296</td>\n",
       "      <td>1.411769e+09</td>\n",
       "      <td>3483</td>\n",
       "    </tr>\n",
       "    <tr>\n",
       "      <th>3140308</th>\n",
       "      <td>11562157</td>\n",
       "      <td>214580372</td>\n",
       "      <td>1.411648e+09</td>\n",
       "      <td>1881</td>\n",
       "    </tr>\n",
       "    <tr>\n",
       "      <th>3140309</th>\n",
       "      <td>11562157</td>\n",
       "      <td>214516012</td>\n",
       "      <td>1.411648e+09</td>\n",
       "      <td>1880</td>\n",
       "    </tr>\n",
       "  </tbody>\n",
       "</table>\n",
       "</div>"
      ],
      "text/plain": [
       "         SessionId     ItemId     timestamp  ItemIdx\n",
       "3140305   11562131  214854542  1.411823e+09    21584\n",
       "3140306   11562151  214536296  1.411769e+09     3483\n",
       "3140307   11562151  214536296  1.411769e+09     3483\n",
       "3140308   11562157  214580372  1.411648e+09     1881\n",
       "3140309   11562157  214516012  1.411648e+09     1880"
      ]
     },
     "execution_count": 66,
     "metadata": {},
     "output_type": "execute_result"
    }
   ],
   "source": [
    "### 전체 과정 (한번의 epoch)을 거치면, 마지막 sessionid 의 index 3140308에서 종료된다.\n",
    "finished = False\n",
    "endpoint_count = 0\n",
    "while not finished:\n",
    "    minlen = (end-start).min()\n",
    "    out_idx = data.ItemIdx.values[start]\n",
    "    for i in range(minlen-1):\n",
    "        in_idx = out_idx\n",
    "        out_idx = data.ItemIdx.values[start+i+1]\n",
    "        endpoint_count += len(out_idx)\n",
    "    \n",
    "    start = start+minlen-1\n",
    "    mask = np.arange(len(iters))[(end-start)<=1]\n",
    "\n",
    "    for idx in mask:\n",
    "        maxiter += 1\n",
    "        if maxiter >= len(offset_sessions)-1:\n",
    "            finished = True\n",
    "            break\n",
    "        iters[idx] = maxiter\n",
    "        start[idx] = offset_sessions[maxiter]\n",
    "        end[idx] = offset_sessions[maxiter+1]\n",
    "        \n",
    "print(max(start))\n",
    "data[-5:]"
   ]
  },
  {
   "cell_type": "code",
   "execution_count": 69,
   "metadata": {},
   "outputs": [
    {
     "name": "stdout",
     "output_type": "stream",
     "text": [
      "2348300\n",
      "2348603\n"
     ]
    }
   ],
   "source": [
    "### SessionId 별 size -1의 합의 전체 학습할 수 있는 데이터인데,\n",
    "### 위 data feed logic에서는 그보다 적게 끝난다.\n",
    "### batch size 만큼 session placeholder를 만들고 session의 item이 다 소진되면,\n",
    "### 다름 세션으로 교체하는 방식인데, 마지막 세션이 교체된 후 minlen 까지만 학습하게 된다.\n",
    "### 예를들어 마지막 50개 세션에서 49개가 item이 3개가 있고 1개가 2개의 item을 가지고 있다면,\n",
    "### minlen은 1이 되어 한번 학습 후, 나머지 49개의 세션에는 아직 학습할 item이 남아있지만, \n",
    "### 한개의 빈자리에 더이상 교체될 세션이 없어지므로 학습을 종료하게 되기 때문에 enpoint count가 적게 나타난다.\n",
    "### 예측에서는 위와 조금 다른 방식으로 logic을 바꿔 모든 데이터를 feed할 것이다.\n",
    "### (학습에서도 모든 데이터를 feed하는 방식으로 바꾸어도 무방할 것으로 보인다.)\n",
    "print(endpoint_count)\n",
    "print(sum(data.groupby('SessionId').size() - 1))"
   ]
  },
  {
   "cell_type": "markdown",
   "metadata": {},
   "source": [
    "#### end"
   ]
  },
  {
   "cell_type": "code",
   "execution_count": 21,
   "metadata": {
    "scrolled": true
   },
   "outputs": [
    {
     "name": "stdout",
     "output_type": "stream",
     "text": [
      "Epoch 0\tStep 1\tlr: 0.00100\tloss: 3.9120\tElapsed: 0.2\n",
      "Epoch 0\tStep 1000\tlr: 0.00100\tloss: 3.3644\tElapsed: 16.0\n",
      "Epoch 0\tStep 2000\tlr: 0.00100\tloss: 2.9966\tElapsed: 31.8\n",
      "Epoch 0\tStep 3000\tlr: 0.00100\tloss: 2.8134\tElapsed: 47.7\n",
      "Epoch 0\tStep 4000\tlr: 0.00100\tloss: 2.6671\tElapsed: 63.7\n",
      "Epoch 0\tStep 5000\tlr: 0.00100\tloss: 2.5774\tElapsed: 79.4\n",
      "Epoch 0\tStep 6000\tlr: 0.00100\tloss: 2.4993\tElapsed: 95.2\n",
      "Epoch 0\tStep 7000\tlr: 0.00100\tloss: 2.4502\tElapsed: 111.0\n",
      "Epoch 0\tStep 8000\tlr: 0.00100\tloss: 2.3951\tElapsed: 126.8\n",
      "Epoch 0\tStep 9000\tlr: 0.00100\tloss: 2.3589\tElapsed: 142.6\n",
      "Epoch 0\tStep 10000\tlr: 0.00100\tloss: 2.3185\tElapsed: 158.4\n",
      "Epoch 0\tStep 11000\tlr: 0.00096\tloss: 2.2945\tElapsed: 174.1\n",
      "Epoch 0\tStep 12000\tlr: 0.00096\tloss: 2.2623\tElapsed: 189.8\n",
      "Epoch 0\tStep 13000\tlr: 0.00096\tloss: 2.2409\tElapsed: 205.6\n",
      "Epoch 0\tStep 14000\tlr: 0.00096\tloss: 2.2166\tElapsed: 221.3\n",
      "Epoch 0\tStep 15000\tlr: 0.00096\tloss: 2.1942\tElapsed: 237.0\n",
      "Epoch 0\tStep 16000\tlr: 0.00096\tloss: 2.1694\tElapsed: 252.7\n",
      "Epoch 0\tStep 17000\tlr: 0.00096\tloss: 2.1545\tElapsed: 268.4\n",
      "Epoch 0\tStep 18000\tlr: 0.00096\tloss: 2.1367\tElapsed: 284.1\n",
      "Epoch 0\tStep 19000\tlr: 0.00096\tloss: 2.1199\tElapsed: 299.9\n",
      "Epoch 0\tStep 20000\tlr: 0.00096\tloss: 2.1087\tElapsed: 315.7\n",
      "Epoch 0\tStep 21000\tlr: 0.00092\tloss: 2.0962\tElapsed: 331.5\n",
      "Epoch 0\tStep 22000\tlr: 0.00092\tloss: 2.0871\tElapsed: 347.2\n",
      "Epoch 0\tStep 23000\tlr: 0.00092\tloss: 2.0768\tElapsed: 363.1\n",
      "Epoch 0\tStep 24000\tlr: 0.00092\tloss: 2.0684\tElapsed: 378.9\n",
      "Epoch 0\tStep 25000\tlr: 0.00092\tloss: 2.0630\tElapsed: 394.7\n",
      "Epoch 0\tStep 26000\tlr: 0.00092\tloss: 2.0570\tElapsed: 410.5\n",
      "Epoch 0\tStep 27000\tlr: 0.00092\tloss: 2.0480\tElapsed: 426.3\n",
      "Epoch 0\tStep 28000\tlr: 0.00092\tloss: 2.0400\tElapsed: 442.1\n",
      "Epoch 0\tStep 29000\tlr: 0.00092\tloss: 2.0326\tElapsed: 457.9\n",
      "Epoch 0\tStep 30000\tlr: 0.00092\tloss: 2.0225\tElapsed: 473.7\n",
      "Epoch 0\tStep 31000\tlr: 0.00088\tloss: 2.0141\tElapsed: 489.6\n",
      "Epoch 0\tStep 32000\tlr: 0.00088\tloss: 2.0070\tElapsed: 505.4\n",
      "Epoch 0\tStep 33000\tlr: 0.00088\tloss: 2.0000\tElapsed: 521.3\n",
      "Epoch 0\tStep 34000\tlr: 0.00088\tloss: 1.9949\tElapsed: 537.1\n",
      "Epoch 0\tStep 35000\tlr: 0.00088\tloss: 1.9894\tElapsed: 552.9\n",
      "Epoch 0\tStep 36000\tlr: 0.00088\tloss: 1.9834\tElapsed: 568.7\n",
      "Epoch 0\tStep 37000\tlr: 0.00088\tloss: 1.9785\tElapsed: 584.5\n",
      "Epoch 0\tStep 38000\tlr: 0.00088\tloss: 1.9718\tElapsed: 600.3\n",
      "Epoch 0\tStep 39000\tlr: 0.00088\tloss: 1.9684\tElapsed: 616.1\n",
      "Epoch 0\tStep 40000\tlr: 0.00088\tloss: 1.9628\tElapsed: 631.8\n",
      "Epoch 0\tStep 41000\tlr: 0.00085\tloss: 1.9621\tElapsed: 647.6\n",
      "Epoch 0\tStep 42000\tlr: 0.00085\tloss: 1.9598\tElapsed: 663.3\n",
      "Epoch 0\tStep 43000\tlr: 0.00085\tloss: 1.9589\tElapsed: 679.0\n",
      "Epoch 0\tStep 44000\tlr: 0.00085\tloss: 1.9566\tElapsed: 694.8\n",
      "Epoch 0\tStep 45000\tlr: 0.00085\tloss: 1.9530\tElapsed: 710.5\n",
      "Epoch 0\tStep 46000\tlr: 0.00085\tloss: 1.9476\tElapsed: 726.3\n",
      "Epoch 1\tStep 47000\tlr: 0.00085\tloss: 2.0278\tElapsed: 742.3\n",
      "Epoch 1\tStep 48000\tlr: 0.00085\tloss: 1.7029\tElapsed: 758.1\n",
      "Epoch 1\tStep 49000\tlr: 0.00085\tloss: 1.6336\tElapsed: 773.8\n",
      "Epoch 1\tStep 50000\tlr: 0.00085\tloss: 1.5978\tElapsed: 789.7\n",
      "Epoch 1\tStep 51000\tlr: 0.00082\tloss: 1.5641\tElapsed: 805.5\n",
      "Epoch 1\tStep 52000\tlr: 0.00082\tloss: 1.5377\tElapsed: 821.2\n",
      "Epoch 1\tStep 53000\tlr: 0.00082\tloss: 1.5142\tElapsed: 837.1\n",
      "Epoch 1\tStep 54000\tlr: 0.00082\tloss: 1.5229\tElapsed: 852.8\n",
      "Epoch 1\tStep 55000\tlr: 0.00082\tloss: 1.5282\tElapsed: 868.6\n",
      "Epoch 1\tStep 56000\tlr: 0.00082\tloss: 1.5346\tElapsed: 884.4\n",
      "Epoch 1\tStep 57000\tlr: 0.00082\tloss: 1.5335\tElapsed: 900.1\n",
      "Epoch 1\tStep 58000\tlr: 0.00082\tloss: 1.5473\tElapsed: 915.8\n",
      "Epoch 1\tStep 59000\tlr: 0.00082\tloss: 1.5507\tElapsed: 931.6\n",
      "Epoch 1\tStep 60000\tlr: 0.00082\tloss: 1.5566\tElapsed: 947.4\n",
      "Epoch 1\tStep 61000\tlr: 0.00078\tloss: 1.5575\tElapsed: 963.2\n",
      "Epoch 1\tStep 62000\tlr: 0.00078\tloss: 1.5536\tElapsed: 979.0\n",
      "Epoch 1\tStep 63000\tlr: 0.00078\tloss: 1.5486\tElapsed: 994.8\n",
      "Epoch 1\tStep 64000\tlr: 0.00078\tloss: 1.5506\tElapsed: 1010.6\n",
      "Epoch 1\tStep 65000\tlr: 0.00078\tloss: 1.5503\tElapsed: 1026.3\n",
      "Epoch 1\tStep 66000\tlr: 0.00078\tloss: 1.5492\tElapsed: 1042.0\n",
      "Epoch 1\tStep 67000\tlr: 0.00078\tloss: 1.5539\tElapsed: 1057.8\n",
      "Epoch 1\tStep 68000\tlr: 0.00078\tloss: 1.5570\tElapsed: 1073.6\n",
      "Epoch 1\tStep 69000\tlr: 0.00078\tloss: 1.5599\tElapsed: 1089.4\n",
      "Epoch 1\tStep 70000\tlr: 0.00078\tloss: 1.5608\tElapsed: 1105.1\n",
      "Epoch 1\tStep 71000\tlr: 0.00075\tloss: 1.5621\tElapsed: 1120.9\n",
      "Epoch 1\tStep 72000\tlr: 0.00075\tloss: 1.5658\tElapsed: 1136.7\n",
      "Epoch 1\tStep 73000\tlr: 0.00075\tloss: 1.5682\tElapsed: 1152.4\n",
      "Epoch 1\tStep 74000\tlr: 0.00075\tloss: 1.5682\tElapsed: 1168.2\n",
      "Epoch 1\tStep 75000\tlr: 0.00075\tloss: 1.5684\tElapsed: 1184.0\n",
      "Epoch 1\tStep 76000\tlr: 0.00075\tloss: 1.5682\tElapsed: 1199.8\n",
      "Epoch 1\tStep 77000\tlr: 0.00075\tloss: 1.5666\tElapsed: 1215.5\n",
      "Epoch 1\tStep 78000\tlr: 0.00075\tloss: 1.5636\tElapsed: 1231.2\n",
      "Epoch 1\tStep 79000\tlr: 0.00075\tloss: 1.5633\tElapsed: 1246.9\n",
      "Epoch 1\tStep 80000\tlr: 0.00075\tloss: 1.5641\tElapsed: 1262.7\n",
      "Epoch 1\tStep 81000\tlr: 0.00072\tloss: 1.5657\tElapsed: 1278.7\n",
      "Epoch 1\tStep 82000\tlr: 0.00072\tloss: 1.5670\tElapsed: 1294.6\n",
      "Epoch 1\tStep 83000\tlr: 0.00072\tloss: 1.5680\tElapsed: 1310.6\n",
      "Epoch 1\tStep 84000\tlr: 0.00072\tloss: 1.5691\tElapsed: 1326.9\n",
      "Epoch 1\tStep 85000\tlr: 0.00072\tloss: 1.5694\tElapsed: 1343.0\n",
      "Epoch 1\tStep 86000\tlr: 0.00072\tloss: 1.5705\tElapsed: 1358.9\n",
      "Epoch 1\tStep 87000\tlr: 0.00072\tloss: 1.5705\tElapsed: 1374.8\n",
      "Epoch 1\tStep 88000\tlr: 0.00072\tloss: 1.5746\tElapsed: 1390.8\n",
      "Epoch 1\tStep 89000\tlr: 0.00072\tloss: 1.5777\tElapsed: 1406.7\n",
      "Epoch 1\tStep 90000\tlr: 0.00072\tloss: 1.5806\tElapsed: 1422.7\n",
      "Epoch 1\tStep 91000\tlr: 0.00069\tloss: 1.5836\tElapsed: 1438.6\n",
      "Epoch 1\tStep 92000\tlr: 0.00069\tloss: 1.5839\tElapsed: 1454.4\n",
      "Epoch 1\tStep 93000\tlr: 0.00069\tloss: 1.5828\tElapsed: 1470.3\n",
      "Epoch 2\tStep 94000\tlr: 0.00069\tloss: 1.5867\tElapsed: 1486.2\n",
      "Epoch 2\tStep 95000\tlr: 0.00069\tloss: 1.5130\tElapsed: 1502.1\n",
      "Epoch 2\tStep 96000\tlr: 0.00069\tloss: 1.4673\tElapsed: 1518.0\n",
      "Epoch 2\tStep 97000\tlr: 0.00069\tloss: 1.4471\tElapsed: 1533.8\n",
      "Epoch 2\tStep 98000\tlr: 0.00069\tloss: 1.4219\tElapsed: 1549.5\n",
      "Epoch 2\tStep 99000\tlr: 0.00069\tloss: 1.4004\tElapsed: 1565.3\n",
      "Epoch 2\tStep 100000\tlr: 0.00069\tloss: 1.3825\tElapsed: 1581.1\n",
      "Epoch 2\tStep 101000\tlr: 0.00066\tloss: 1.3967\tElapsed: 1596.8\n",
      "Epoch 2\tStep 102000\tlr: 0.00066\tloss: 1.4065\tElapsed: 1612.6\n",
      "Epoch 2\tStep 103000\tlr: 0.00066\tloss: 1.4146\tElapsed: 1628.3\n",
      "Epoch 2\tStep 104000\tlr: 0.00066\tloss: 1.4171\tElapsed: 1644.1\n",
      "Epoch 2\tStep 105000\tlr: 0.00066\tloss: 1.4333\tElapsed: 1659.8\n",
      "Epoch 2\tStep 106000\tlr: 0.00066\tloss: 1.4401\tElapsed: 1675.5\n",
      "Epoch 2\tStep 107000\tlr: 0.00066\tloss: 1.4476\tElapsed: 1691.3\n",
      "Epoch 2\tStep 108000\tlr: 0.00066\tloss: 1.4515\tElapsed: 1707.1\n",
      "Epoch 2\tStep 109000\tlr: 0.00066\tloss: 1.4487\tElapsed: 1722.9\n",
      "Epoch 2\tStep 110000\tlr: 0.00066\tloss: 1.4454\tElapsed: 1738.6\n",
      "Epoch 2\tStep 111000\tlr: 0.00064\tloss: 1.4487\tElapsed: 1754.3\n",
      "Epoch 2\tStep 112000\tlr: 0.00064\tloss: 1.4501\tElapsed: 1770.1\n",
      "Epoch 2\tStep 113000\tlr: 0.00064\tloss: 1.4504\tElapsed: 1785.9\n",
      "Epoch 2\tStep 114000\tlr: 0.00064\tloss: 1.4563\tElapsed: 1801.6\n",
      "Epoch 2\tStep 115000\tlr: 0.00064\tloss: 1.4612\tElapsed: 1817.4\n",
      "Epoch 2\tStep 116000\tlr: 0.00064\tloss: 1.4650\tElapsed: 1833.2\n",
      "Epoch 2\tStep 117000\tlr: 0.00064\tloss: 1.4669\tElapsed: 1848.9\n",
      "Epoch 2\tStep 118000\tlr: 0.00064\tloss: 1.4690\tElapsed: 1864.7\n",
      "Epoch 2\tStep 119000\tlr: 0.00064\tloss: 1.4739\tElapsed: 1880.4\n",
      "Epoch 2\tStep 120000\tlr: 0.00064\tloss: 1.4764\tElapsed: 1896.2\n",
      "Epoch 2\tStep 121000\tlr: 0.00061\tloss: 1.4776\tElapsed: 1912.0\n",
      "Epoch 2\tStep 122000\tlr: 0.00061\tloss: 1.4783\tElapsed: 1927.8\n",
      "Epoch 2\tStep 123000\tlr: 0.00061\tloss: 1.4787\tElapsed: 1943.6\n",
      "Epoch 2\tStep 124000\tlr: 0.00061\tloss: 1.4779\tElapsed: 1959.3\n",
      "Epoch 2\tStep 125000\tlr: 0.00061\tloss: 1.4753\tElapsed: 1975.0\n",
      "Epoch 2\tStep 126000\tlr: 0.00061\tloss: 1.4757\tElapsed: 1990.7\n",
      "Epoch 2\tStep 127000\tlr: 0.00061\tloss: 1.4770\tElapsed: 2006.4\n",
      "Epoch 2\tStep 128000\tlr: 0.00061\tloss: 1.4796\tElapsed: 2022.1\n",
      "Epoch 2\tStep 129000\tlr: 0.00061\tloss: 1.4816\tElapsed: 2037.8\n",
      "Epoch 2\tStep 130000\tlr: 0.00061\tloss: 1.4835\tElapsed: 2053.4\n",
      "Epoch 2\tStep 131000\tlr: 0.00059\tloss: 1.4853\tElapsed: 2069.2\n",
      "Epoch 2\tStep 132000\tlr: 0.00059\tloss: 1.4865\tElapsed: 2084.9\n",
      "Epoch 2\tStep 133000\tlr: 0.00059\tloss: 1.4880\tElapsed: 2100.7\n",
      "Epoch 2\tStep 134000\tlr: 0.00059\tloss: 1.4887\tElapsed: 2116.6\n",
      "Epoch 2\tStep 135000\tlr: 0.00059\tloss: 1.4934\tElapsed: 2132.5\n",
      "Epoch 2\tStep 136000\tlr: 0.00059\tloss: 1.4972\tElapsed: 2148.4\n",
      "Epoch 2\tStep 137000\tlr: 0.00059\tloss: 1.5003\tElapsed: 2164.4\n"
     ]
    },
    {
     "name": "stdout",
     "output_type": "stream",
     "text": [
      "Epoch 2\tStep 138000\tlr: 0.00059\tloss: 1.5039\tElapsed: 2180.4\n",
      "Epoch 2\tStep 139000\tlr: 0.00059\tloss: 1.5044\tElapsed: 2196.3\n",
      "Epoch 2\tStep 140000\tlr: 0.00059\tloss: 1.5037\tElapsed: 2212.3\n",
      "1 epoch elapsed time: 2226.7271797657013\n"
     ]
    }
   ],
   "source": [
    "## training\n",
    "### 위 data feeding에서 in_idx, out_idx 후에 실제 학습을 수행하여, \n",
    "### epoch만큼 학습을 진행한다.\n",
    "tic = time.time()\n",
    "for epoch in range(n_epochs):\n",
    "    epoch_cost = []\n",
    "    state = [np.zeros([batch_size, rnn_size], dtype=np.float32) for _ in range(layers)]\n",
    "    iters = np.arange(batch_size)\n",
    "    maxiter = iters.max()\n",
    "    \n",
    "    start = offset_sessions[iters]\n",
    "    end = offset_sessions[iters+1]\n",
    "    \n",
    "    finished = False\n",
    "    while not finished:\n",
    "        minlen = (end-start).min()\n",
    "        out_idx = data.ItemIdx.values[start]\n",
    "        for i in range(minlen-1):\n",
    "            in_idx = out_idx\n",
    "            out_idx = data.ItemIdx.values[start+i+1]\n",
    "            # prepare inputs, targeted outputs and hidden states\n",
    "            fetches = [cost, final_state, global_step, lr, train_op]\n",
    "            feed_dict = {X: in_idx, Y: out_idx}\n",
    "            for j in range(layers): \n",
    "                feed_dict[States[j]] = state[j]\n",
    "            \n",
    "            cost_, state, step, lr_, _ = sess.run(fetches, feed_dict)\n",
    "            epoch_cost.append(cost_)\n",
    "                \n",
    "            if step == 1 or step % print_step == 0:\n",
    "                avgc = np.mean(epoch_cost)\n",
    "                print('Epoch {}\\tStep {}\\tlr: {:.5f}\\tloss: {:.4f}\\tElapsed: {:.1f}'.\n",
    "                      format(epoch, step, lr_, avgc, time.time()-tic))\n",
    "\n",
    "        start = start+minlen-1\n",
    "        mask = np.arange(len(iters))[(end-start)<=1]\n",
    "        for idx in mask:\n",
    "            maxiter += 1\n",
    "            if maxiter >= len(offset_sessions)-1:\n",
    "                finished = True\n",
    "                break\n",
    "            iters[idx] = maxiter\n",
    "            start[idx] = offset_sessions[maxiter]\n",
    "            end[idx] = offset_sessions[maxiter+1]\n",
    "        if len(mask):\n",
    "            for i in range(layers):\n",
    "                state[i][mask] = 0\n",
    "        \n",
    "    avgc = np.mean(epoch_cost)\n",
    "    if np.isnan(avgc):\n",
    "        print('Epoch {}: Nan error!'.format(epoch, avgc))\n",
    "        break\n",
    "    saver.save(sess, '{}/gru-model'.format(checkpoint_dir), global_step=epoch)\n",
    "print(\"1 epoch elapsed time:\", time.time() - tic)"
   ]
  },
  {
   "cell_type": "code",
   "execution_count": 129,
   "metadata": {
    "collapsed": true
   },
   "outputs": [],
   "source": [
    "sess.close()"
   ]
  },
  {
   "cell_type": "markdown",
   "metadata": {
    "collapsed": true
   },
   "source": [
    "## Prediction & Evaluation\n",
    "valid(test) 데이터에 대하여 예측과 평가를 수행한다.\n",
    "\n",
    "evaluation metric\n",
    "1. Recall@20\n",
    "    - 예측한 top 20 아이템 중에 정답 아이템이 있는지 1 or 0으로 평가 후 전체를 평균함\n",
    "2. MRR@20 (mean reciprocal rank)\n",
    "    - 정답 아이템의 rank의 역수를 취한 후 전체를 평균함\n",
    "    - $mrr = \\frac{1}{N} \\sum\\limits_{i=1}^{N} {\\frac{1}{rank_{i}}}$\n",
    "    - rank가 20위 안에 들지 않으면 0으로 처리한다."
   ]
  },
  {
   "cell_type": "code",
   "execution_count": 13,
   "metadata": {
    "collapsed": true
   },
   "outputs": [],
   "source": [
    "## parameters\n",
    "cut_off = 20     # @20\n",
    "batch_size = 50"
   ]
  },
  {
   "cell_type": "code",
   "execution_count": 14,
   "metadata": {},
   "outputs": [
    {
     "name": "stdout",
     "output_type": "stream",
     "text": [
      "INFO:tensorflow:Restoring parameters from ./checkpoint/gru-model-2\n"
     ]
    }
   ],
   "source": [
    "## session restore\n",
    "### 마지막(최신) 학습 checkpoint 정보를 restore한다.\n",
    "sess = tf.Session()\n",
    "saver = tf.train.Saver(tf.global_variables())\n",
    "ckpt = tf.train.latest_checkpoint(checkpoint_dir)\n",
    "saver.restore(sess, ckpt)"
   ]
  },
  {
   "cell_type": "code",
   "execution_count": 27,
   "metadata": {},
   "outputs": [
    {
     "data": {
      "text/html": [
       "<div>\n",
       "<style scoped>\n",
       "    .dataframe tbody tr th:only-of-type {\n",
       "        vertical-align: middle;\n",
       "    }\n",
       "\n",
       "    .dataframe tbody tr th {\n",
       "        vertical-align: top;\n",
       "    }\n",
       "\n",
       "    .dataframe thead th {\n",
       "        text-align: right;\n",
       "    }\n",
       "</style>\n",
       "<table border=\"1\" class=\"dataframe\">\n",
       "  <thead>\n",
       "    <tr style=\"text-align: right;\">\n",
       "      <th></th>\n",
       "      <th>SessionId</th>\n",
       "      <th>ItemId</th>\n",
       "      <th>timestamp</th>\n",
       "      <th>ItemIdx</th>\n",
       "    </tr>\n",
       "  </thead>\n",
       "  <tbody>\n",
       "    <tr>\n",
       "      <th>0</th>\n",
       "      <td>11255868</td>\n",
       "      <td>214853754</td>\n",
       "      <td>1.412011e+09</td>\n",
       "      <td>19930</td>\n",
       "    </tr>\n",
       "    <tr>\n",
       "      <th>1</th>\n",
       "      <td>11255868</td>\n",
       "      <td>214577709</td>\n",
       "      <td>1.412011e+09</td>\n",
       "      <td>16686</td>\n",
       "    </tr>\n",
       "    <tr>\n",
       "      <th>2</th>\n",
       "      <td>11255868</td>\n",
       "      <td>214853754</td>\n",
       "      <td>1.412011e+09</td>\n",
       "      <td>19930</td>\n",
       "    </tr>\n",
       "    <tr>\n",
       "      <th>3</th>\n",
       "      <td>11255882</td>\n",
       "      <td>214855046</td>\n",
       "      <td>1.411965e+09</td>\n",
       "      <td>21684</td>\n",
       "    </tr>\n",
       "    <tr>\n",
       "      <th>4</th>\n",
       "      <td>11255882</td>\n",
       "      <td>214854913</td>\n",
       "      <td>1.411965e+09</td>\n",
       "      <td>21665</td>\n",
       "    </tr>\n",
       "  </tbody>\n",
       "</table>\n",
       "</div>"
      ],
      "text/plain": [
       "   SessionId     ItemId     timestamp  ItemIdx\n",
       "0   11255868  214853754  1.412011e+09    19930\n",
       "1   11255868  214577709  1.412011e+09    16686\n",
       "2   11255868  214853754  1.412011e+09    19930\n",
       "3   11255882  214855046  1.411965e+09    21684\n",
       "4   11255882  214854913  1.411965e+09    21665"
      ]
     },
     "execution_count": 27,
     "metadata": {},
     "output_type": "execute_result"
    }
   ],
   "source": [
    "## valdation data set\n",
    "valid['ItemIdx'] = valid['ItemId'].map(lambda x: itemidmap[x])\n",
    "valid[:5]"
   ]
  },
  {
   "cell_type": "code",
   "execution_count": 29,
   "metadata": {},
   "outputs": [
    {
     "data": {
      "text/plain": [
       "array([ 0,  3, 14, 16, 19], dtype=int32)"
      ]
     },
     "execution_count": 29,
     "metadata": {},
     "output_type": "execute_result"
    }
   ],
   "source": [
    "## valid offset sessions\n",
    "### 위 학습과 동일하게 각 세션의 시작점의 index list를 만든다.\n",
    "offset_sessions = np.zeros(valid['SessionId'].nunique()+1, dtype=np.int32)\n",
    "offset_sessions[1:] = valid.groupby('SessionId').size().cumsum()\n",
    "offset_sessions[:5]"
   ]
  },
  {
   "cell_type": "code",
   "execution_count": 30,
   "metadata": {
    "collapsed": true
   },
   "outputs": [],
   "source": [
    "## init prediction\n",
    "### 예측 세션의 배치 사이즈 보다 작을 경우 배치 사이즈를 조정한다.\n",
    "if len(offset_sessions) - 1 < batch_size:\n",
    "    batch_size = len(offset_sessions) - 1\n",
    "### training step과 동일\n",
    "iters = np.arange(batch_size).astype(np.int32)\n",
    "maxiter = iters.max()\n",
    "start = offset_sessions[iters]\n",
    "end = offset_sessions[iters+1]\n",
    "in_idx = np.zeros(batch_size, dtype=np.int32)\n",
    "predict_state = [np.zeros([batch_size, rnn_size], dtype=np.float32) for _ in range(layers)]"
   ]
  },
  {
   "cell_type": "code",
   "execution_count": 37,
   "metadata": {},
   "outputs": [
    {
     "name": "stdout",
     "output_type": "stream",
     "text": [
      "break at endpoint 5833\n",
      "recall:  0.4750557174695697 mrr: 0.1688607586708575 elapsed time: 1.7879860401153564\n"
     ]
    }
   ],
   "source": [
    "## prediction & evaluation\n",
    "### data feeding 요약\n",
    "### 학습과는 조금 다르게 valid_mask를 설정하여, batch placeholder에 더이상 feed할 세션이 없어지면,\n",
    "### 해당 위치를 꺼가는 방식으로 모든 batch placeholder가 없어질 때까지 feed하는 것이다.\n",
    "evalutation_point_count = 0\n",
    "mrr, recall = 0.0, 0.0\n",
    "tic = time.time()\n",
    "while True:\n",
    "    ### iters는 batch placeholder로 0보다 큰 즉, 마지막 세션까지는 모든 위치를 켜두고\n",
    "    ### 아래에서 session 데이터가 다 소진되면 해당 위치를 -1로 할당할 것이다.\n",
    "    ### valid_mask가 0이 되면 즉 모든 위치가 꺼지면 학습을 종료한다.\n",
    "    valid_mask = iters >= 0\n",
    "    if valid_mask.sum() == 0:\n",
    "        print(\"break at endpoint\", evalutation_point_count)\n",
    "        break\n",
    "        \n",
    "    start_valid = start[valid_mask]\n",
    "    minlen = (end[valid_mask]-start_valid).min()\n",
    "    in_idx[valid_mask] = valid.ItemIdx.values[start_valid]\n",
    "    \n",
    "    for i in range(minlen-1):\n",
    "        out_idx = valid.ItemIdx.values[start_valid+i+1]\n",
    "        ## --- prediction --- ##\n",
    "        fetches = [yhat_all, final_state]\n",
    "        feed_dict = {X: in_idx}\n",
    "        for j in range(layers): \n",
    "            feed_dict[States[j]] = predict_state[j]\n",
    "        preds, predict_state = sess.run(fetches, feed_dict)\n",
    "        preds = pd.DataFrame(data=np.asarray(preds).T)\n",
    "        preds.fillna(0, inplace=True) ### preds shape: (item_size, batch_size)\n",
    "        ## --- evaluation --- ##\n",
    "        in_idx[valid_mask] = out_idx\n",
    "        ### 정답 아이템 prediction 값보다 높은 아이템이 몇개인지 카운트 하여 rank를 계산한다.\n",
    "        ranks = (preds.values.T[valid_mask].T > \n",
    "                 np.diag(preds.loc[in_idx].values)[valid_mask]).sum(axis=0) + 1\n",
    "        ### cutoff에 따른 recall과 mrr을 계산한다.\n",
    "        rank_ok = ranks < cut_off\n",
    "        recall += rank_ok.sum()\n",
    "        mrr += (1.0 / ranks[rank_ok]).sum()\n",
    "        evalutation_point_count += len(ranks)\n",
    "        \n",
    "    start = start+minlen-1\n",
    "    mask = np.arange(len(iters))[(valid_mask) & (end-start<=1)]\n",
    "    \n",
    "    for idx in mask:\n",
    "        maxiter += 1\n",
    "        ## 더 이상 할당할 세션이 없으면 해당 위치에 -1을 할당하여 끈다.\n",
    "        if maxiter >= len(offset_sessions)-1:\n",
    "            iters[idx] = -1\n",
    "        else:\n",
    "            iters[idx] = maxiter\n",
    "            start[idx] = offset_sessions[maxiter]\n",
    "            end[idx] = offset_sessions[maxiter+1]\n",
    "            \n",
    "    if len(mask):\n",
    "        for i in range(layers):\n",
    "            predict_state[i][mask] = 0\n",
    "\n",
    "### 최종 matric을 계산함.\n",
    "recall = recall/evalutation_point_count\n",
    "mrr = mrr/evalutation_point_count\n",
    "print(\"recall: \", recall, \"mrr:\", mrr, \"elapsed time:\", time.time()-tic)"
   ]
  },
  {
   "cell_type": "code",
   "execution_count": 70,
   "metadata": {},
   "outputs": [
    {
     "name": "stdout",
     "output_type": "stream",
     "text": [
      "5833\n",
      "5833\n"
     ]
    }
   ],
   "source": [
    "### 모든 데이터가 다 사용되었는지 검증.\n",
    "print(evalutation_point_count)\n",
    "print(sum(valid.groupby('SessionId').size() - 1))"
   ]
  },
  {
   "cell_type": "code",
   "execution_count": null,
   "metadata": {
    "collapsed": true
   },
   "outputs": [],
   "source": []
  }
 ],
 "metadata": {
  "kernelspec": {
   "display_name": "Python 3",
   "language": "python",
   "name": "python3"
  },
  "language_info": {
   "codemirror_mode": {
    "name": "ipython",
    "version": 3
   },
   "file_extension": ".py",
   "mimetype": "text/x-python",
   "name": "python",
   "nbconvert_exporter": "python",
   "pygments_lexer": "ipython3",
   "version": "3.5.2"
  }
 },
 "nbformat": 4,
 "nbformat_minor": 2
}
